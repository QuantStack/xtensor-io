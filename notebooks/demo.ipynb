{
 "cells": [
  {
   "cell_type": "markdown",
   "metadata": {},
   "source": [
    "# xtensor-io\n",
    "\n",
    "Effortless loading of images, audio files and NumPy npz files!"
   ]
  },
  {
   "cell_type": "code",
   "execution_count": 1,
   "metadata": {
    "collapsed": true
   },
   "outputs": [],
   "source": [
    "#include <string>\n",
    "#include <fstream>\n",
    "#include \"xtl/xbase64.hpp\"\n",
    "#include \"xwidgets/xslider.hpp\"\n",
    "#include \"xtensor/xview.hpp\"\n",
    "#include \"xtensor/xio.hpp\""
   ]
  },
  {
   "cell_type": "code",
   "execution_count": 2,
   "metadata": {
    "collapsed": true
   },
   "outputs": [],
   "source": [
    "#include \"xtensor-io/ximage.hpp\"\n",
    "#include \"xtensor-io/xaudio.hpp\"\n",
    "#include \"xtensor-io/xnpz.hpp\""
   ]
  },
  {
   "cell_type": "code",
   "execution_count": 4,
   "metadata": {
    "collapsed": true
   },
   "outputs": [],
   "source": [
    "template <class E>\n",
    "auto display(const xt::xexpression<E>& e, xeus::xguid id = xeus::xguid(), bool update = false)\n",
    "{\n",
    "    xt::dump_image(\"/tmp/xio_image.png\", e);\n",
    "    std::ifstream fin(\"/tmp/xio_image.png\", std::ios::binary);\n",
    "    std::stringstream buffer;\n",
    "    buffer << fin.rdbuf();\n",
    "\n",
    "    xeus::xjson mime;\n",
    "    mime[\"image/png\"] = xtl::base64encode(buffer.str());\n",
    "    xeus::xjson transient;\n",
    "\n",
    "    if (update)\n",
    "    {\n",
    "        transient[\"display_id\"] = id;\n",
    "        xeus::get_interpreter().update_display_data(\n",
    "            std::move(mime),\n",
    "            xeus::xjson::object(),\n",
    "            std::move(transient));\n",
    "        return id;\n",
    "    }\n",
    "    else\n",
    "    {\n",
    "        id = xeus::new_xguid();\n",
    "        transient[\"display_id\"] = id;\n",
    "        xeus::get_interpreter().display_data(\n",
    "            std::move(mime),\n",
    "            xeus::xjson::object(),\n",
    "            std::move(transient));\n",
    "        return id;\n",
    "    }\n",
    "}"
   ]
  },
  {
   "cell_type": "code",
   "execution_count": 5,
   "metadata": {
    "collapsed": true
   },
   "outputs": [],
   "source": [
    "auto lightsaber = xt::load_image(\"images/saber.png\");"
   ]
  },
  {
   "cell_type": "code",
   "execution_count": 6,
   "metadata": {},
   "outputs": [
    {
     "data": {
      "image/png": "[encoded data removed]"
     },
     "metadata": {},
     "output_type": "display_data"
    }
   ],
   "source": [
    "auto display_id = display(lightsaber);"
   ]
  },
  {
   "cell_type": "code",
   "execution_count": 7,
   "metadata": {
    "collapsed": true
   },
   "outputs": [],
   "source": [
    "template <class E>\n",
    "void modify_image(xt::xexpression<E>& e, double value)\n",
    "{\n",
    "    xt::xarray<double> lightsaber_modified = e.derived_cast();\n",
    "    double inc = value / 5.;\n",
    "    xt::xarray<double> filter = {1. - inc, 1. + inc, 1. - inc};\n",
    "    lightsaber_modified *= filter;\n",
    "    xt::xarray<uint8_t> lightsaber_display = xt::cast<uint8_t>(xt::clip(lightsaber_modified, 0, 255));\n",
    "    display(lightsaber_display, display_id, true);\n",
    "}"
   ]
  },
  {
   "cell_type": "code",
   "execution_count": 8,
   "metadata": {},
   "outputs": [
    {
     "data": {
      "application/vnd.jupyter.widget-view+json": {
       "model_id": "c4b93a64477944849c6c34527b3ae439",
       "version_major": 2,
       "version_minor": 0
      },
      "text/plain": [
       "A Jupyter widget"
      ]
     },
     "metadata": {},
     "output_type": "display_data"
    }
   ],
   "source": [
    "xw::slider<double> slider;\n",
    "slider.max = 5;\n",
    "slider.continuous_update = false;\n",
    "slider.display()"
   ]
  },
  {
   "cell_type": "code",
   "execution_count": 9,
   "metadata": {
    "collapsed": true
   },
   "outputs": [],
   "source": [
    "XOBSERVE(slider, value, [](const auto& s) {\n",
    "    modify_image(lightsaber, s.value());\n",
    "});"
   ]
  }
 ],
 "metadata": {
  "kernelspec": {
   "display_name": "xeus C++14",
   "language": "",
   "name": "xeus-cling-cpp14"
  },
  "language_info": {
   "codemirror_mode": "text/x-c++src",
   "file_extension": ".cpp",
   "mimetype": "text/x-c++src",
   "name": "c++",
   "version": ""
  }
 },
 "nbformat": 4,
 "nbformat_minor": 2
}
